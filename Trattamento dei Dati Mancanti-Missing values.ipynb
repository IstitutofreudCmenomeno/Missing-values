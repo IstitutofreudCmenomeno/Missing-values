{
 "cells": [
  {
   "cell_type": "markdown",
   "id": "7723ec87",
   "metadata": {},
   "source": [
    "# Dataframes e Dataframes con dati mancanti "
   ]
  },
  {
   "cell_type": "code",
   "execution_count": 12,
   "id": "c2a8d01e",
   "metadata": {},
   "outputs": [
    {
     "data": {
      "text/html": [
       "<div>\n",
       "<style scoped>\n",
       "    .dataframe tbody tr th:only-of-type {\n",
       "        vertical-align: middle;\n",
       "    }\n",
       "\n",
       "    .dataframe tbody tr th {\n",
       "        vertical-align: top;\n",
       "    }\n",
       "\n",
       "    .dataframe thead th {\n",
       "        text-align: right;\n",
       "    }\n",
       "</style>\n",
       "<table border=\"1\" class=\"dataframe\">\n",
       "  <thead>\n",
       "    <tr style=\"text-align: right;\">\n",
       "      <th></th>\n",
       "      <th>età</th>\n",
       "      <th>punteggio</th>\n",
       "      <th>ammesso</th>\n",
       "    </tr>\n",
       "  </thead>\n",
       "  <tbody>\n",
       "    <tr>\n",
       "      <th>0</th>\n",
       "      <td>25.0</td>\n",
       "      <td>90.0</td>\n",
       "      <td>1.0</td>\n",
       "    </tr>\n",
       "    <tr>\n",
       "      <th>1</th>\n",
       "      <td>NaN</td>\n",
       "      <td>85.0</td>\n",
       "      <td>0.0</td>\n",
       "    </tr>\n",
       "    <tr>\n",
       "      <th>2</th>\n",
       "      <td>28.0</td>\n",
       "      <td>NaN</td>\n",
       "      <td>1.0</td>\n",
       "    </tr>\n",
       "    <tr>\n",
       "      <th>3</th>\n",
       "      <td>NaN</td>\n",
       "      <td>75.0</td>\n",
       "      <td>1.0</td>\n",
       "    </tr>\n",
       "    <tr>\n",
       "      <th>4</th>\n",
       "      <td>23.0</td>\n",
       "      <td>NaN</td>\n",
       "      <td>NaN</td>\n",
       "    </tr>\n",
       "    <tr>\n",
       "      <th>5</th>\n",
       "      <td>23.0</td>\n",
       "      <td>77.0</td>\n",
       "      <td>NaN</td>\n",
       "    </tr>\n",
       "  </tbody>\n",
       "</table>\n",
       "</div>"
      ],
      "text/plain": [
       "    età  punteggio  ammesso\n",
       "0  25.0       90.0      1.0\n",
       "1   NaN       85.0      0.0\n",
       "2  28.0        NaN      1.0\n",
       "3   NaN       75.0      1.0\n",
       "4  23.0        NaN      NaN\n",
       "5  23.0       77.0      NaN"
      ]
     },
     "execution_count": 12,
     "metadata": {},
     "output_type": "execute_result"
    }
   ],
   "source": [
    "import pandas as pd\n",
    "\n",
    "# Dataset con dati mancanti rappresentati da None o NaN\n",
    "dataset = [\n",
    "    {\"età\": 25, \"punteggio\": 90, \"ammesso\": 1},\n",
    "    {\"età\": None, \"punteggio\": 85, \"ammesso\": 0},\n",
    "    {\"età\": 28, \"punteggio\": None, \"ammesso\": 1},\n",
    "    {\"età\": None, \"punteggio\": 75, \"ammesso\": 1},\n",
    "    {\"età\": 23, \"punteggio\": None, \"ammesso\": None},\n",
    "    {\"età\": 23, \"punteggio\": 77, \"ammesso\": None},\n",
    "]\n",
    "df = pd.DataFrame(dataset)\n",
    "df"
   ]
  },
  {
   "cell_type": "code",
   "execution_count": 3,
   "id": "7f1d879b",
   "metadata": {},
   "outputs": [
    {
     "data": {
      "text/plain": [
       "0    90.0\n",
       "1    85.0\n",
       "2     NaN\n",
       "3    75.0\n",
       "4     NaN\n",
       "5    77.0\n",
       "Name: punteggio, dtype: float64"
      ]
     },
     "execution_count": 3,
     "metadata": {},
     "output_type": "execute_result"
    }
   ],
   "source": [
    "df[\"punteggio\"]"
   ]
  },
  {
   "cell_type": "code",
   "execution_count": 19,
   "id": "ea536aba",
   "metadata": {},
   "outputs": [
    {
     "data": {
      "text/html": [
       "<div>\n",
       "<style scoped>\n",
       "    .dataframe tbody tr th:only-of-type {\n",
       "        vertical-align: middle;\n",
       "    }\n",
       "\n",
       "    .dataframe tbody tr th {\n",
       "        vertical-align: top;\n",
       "    }\n",
       "\n",
       "    .dataframe thead th {\n",
       "        text-align: right;\n",
       "    }\n",
       "</style>\n",
       "<table border=\"1\" class=\"dataframe\">\n",
       "  <thead>\n",
       "    <tr style=\"text-align: right;\">\n",
       "      <th></th>\n",
       "      <th>Variable1</th>\n",
       "      <th>Variable2</th>\n",
       "      <th>Missing_Column</th>\n",
       "    </tr>\n",
       "  </thead>\n",
       "  <tbody>\n",
       "    <tr>\n",
       "      <th>2</th>\n",
       "      <td>3</td>\n",
       "      <td>NaN</td>\n",
       "      <td>A</td>\n",
       "    </tr>\n",
       "    <tr>\n",
       "      <th>4</th>\n",
       "      <td>5</td>\n",
       "      <td>NaN</td>\n",
       "      <td>NaN</td>\n",
       "    </tr>\n",
       "  </tbody>\n",
       "</table>\n",
       "</div>"
      ],
      "text/plain": [
       "   Variable1  Variable2 Missing_Column\n",
       "2          3        NaN              A\n",
       "4          5        NaN            NaN"
      ]
     },
     "execution_count": 19,
     "metadata": {},
     "output_type": "execute_result"
    }
   ],
   "source": [
    "#identificazione delle righe con dati mancanti\n",
    "righe_con_dati_mancanti = df[df.isnull().any(axis=1)]\n",
    "righe_con_dati_mancanti"
   ]
  },
  {
   "cell_type": "code",
   "execution_count": 21,
   "id": "580ffcad",
   "metadata": {},
   "outputs": [
    {
     "data": {
      "text/plain": [
       "2"
      ]
     },
     "execution_count": 21,
     "metadata": {},
     "output_type": "execute_result"
    }
   ],
   "source": [
    "#conta quante righe con dati mancanti ci sono in totale\n",
    "totale_dati_mancanti = righe_con_dati_mancanti.shape[0]\n",
    "totale_dati_mancanti"
   ]
  },
  {
   "cell_type": "code",
   "execution_count": 9,
   "id": "60535dec",
   "metadata": {},
   "outputs": [
    {
     "name": "stdout",
     "output_type": "stream",
     "text": [
      "righe con dati mancanti:\n",
      "    età  punteggio  ammesso\n",
      "1   NaN       85.0      0.0\n",
      "2  28.0        NaN      1.0\n",
      "3   NaN       75.0      1.0\n",
      "4  23.0        NaN      NaN\n",
      "5  23.0       77.0      NaN\n",
      "totale dati mancanti: 5\n"
     ]
    }
   ],
   "source": [
    "print(\"righe con dati mancanti:\")\n",
    "print(righe_con_dati_mancanti)\n",
    "print(\"totale dati mancanti:\", totale_dati_mancanti)"
   ]
  },
  {
   "cell_type": "code",
   "execution_count": 17,
   "id": "9e31ff33",
   "metadata": {},
   "outputs": [
    {
     "data": {
      "text/html": [
       "<div>\n",
       "<style scoped>\n",
       "    .dataframe tbody tr th:only-of-type {\n",
       "        vertical-align: middle;\n",
       "    }\n",
       "\n",
       "    .dataframe tbody tr th {\n",
       "        vertical-align: top;\n",
       "    }\n",
       "\n",
       "    .dataframe thead th {\n",
       "        text-align: right;\n",
       "    }\n",
       "</style>\n",
       "<table border=\"1\" class=\"dataframe\">\n",
       "  <thead>\n",
       "    <tr style=\"text-align: right;\">\n",
       "      <th></th>\n",
       "      <th>nome</th>\n",
       "      <th>età</th>\n",
       "      <th>punteggio</th>\n",
       "      <th>email</th>\n",
       "    </tr>\n",
       "  </thead>\n",
       "  <tbody>\n",
       "    <tr>\n",
       "      <th>0</th>\n",
       "      <td>Alice</td>\n",
       "      <td>25</td>\n",
       "      <td>90.0</td>\n",
       "      <td>alice@email.com</td>\n",
       "    </tr>\n",
       "    <tr>\n",
       "      <th>1</th>\n",
       "      <td>Bob</td>\n",
       "      <td>22</td>\n",
       "      <td>NaN</td>\n",
       "      <td>None</td>\n",
       "    </tr>\n",
       "    <tr>\n",
       "      <th>2</th>\n",
       "      <td>Charlie</td>\n",
       "      <td>28</td>\n",
       "      <td>75.0</td>\n",
       "      <td>charlie@email.com</td>\n",
       "    </tr>\n",
       "  </tbody>\n",
       "</table>\n",
       "</div>"
      ],
      "text/plain": [
       "      nome  età  punteggio              email\n",
       "0    Alice   25       90.0    alice@email.com\n",
       "1      Bob   22        NaN               None\n",
       "2  Charlie   28       75.0  charlie@email.com"
      ]
     },
     "execution_count": 17,
     "metadata": {},
     "output_type": "execute_result"
    }
   ],
   "source": [
    "import pandas as pd\n",
    "\n",
    "# Dataset con dati mancanti rappresentati da None o NaN\n",
    "dataset = [\n",
    "    {\"nome\": \"Alice\", \"età\": 25, \"punteggio\": 90, \"email\": \"alice@email.com\"},\n",
    "    {\"nome\": \"Bob\", \"età\": 22, \"punteggio\": None, \"email\": None},\n",
    "    {\"nome\": \"Charlie\", \"età\": 28, \"punteggio\": 75, \"email\": \"charlie@email.com\"},\n",
    "]\n",
    "\n",
    "# Converti il dataset in un DataFrame\n",
    "df = pd.DataFrame(dataset)\n",
    "df"
   ]
  },
  {
   "cell_type": "code",
   "execution_count": 18,
   "id": "c7a67dd8",
   "metadata": {},
   "outputs": [
    {
     "data": {
      "text/html": [
       "<div>\n",
       "<style scoped>\n",
       "    .dataframe tbody tr th:only-of-type {\n",
       "        vertical-align: middle;\n",
       "    }\n",
       "\n",
       "    .dataframe tbody tr th {\n",
       "        vertical-align: top;\n",
       "    }\n",
       "\n",
       "    .dataframe thead th {\n",
       "        text-align: right;\n",
       "    }\n",
       "</style>\n",
       "<table border=\"1\" class=\"dataframe\">\n",
       "  <thead>\n",
       "    <tr style=\"text-align: right;\">\n",
       "      <th></th>\n",
       "      <th>nome</th>\n",
       "      <th>età</th>\n",
       "      <th>punteggio</th>\n",
       "      <th>email</th>\n",
       "    </tr>\n",
       "  </thead>\n",
       "  <tbody>\n",
       "    <tr>\n",
       "      <th>0</th>\n",
       "      <td>Alice</td>\n",
       "      <td>25</td>\n",
       "      <td>90.0</td>\n",
       "      <td>alice@email.com</td>\n",
       "    </tr>\n",
       "    <tr>\n",
       "      <th>1</th>\n",
       "      <td>Bob</td>\n",
       "      <td>22</td>\n",
       "      <td>NaN</td>\n",
       "      <td>None</td>\n",
       "    </tr>\n",
       "    <tr>\n",
       "      <th>2</th>\n",
       "      <td>Charlie</td>\n",
       "      <td>28</td>\n",
       "      <td>75.0</td>\n",
       "      <td>charlie@email.com</td>\n",
       "    </tr>\n",
       "  </tbody>\n",
       "</table>\n",
       "</div>"
      ],
      "text/plain": [
       "      nome  età  punteggio              email\n",
       "0    Alice   25       90.0    alice@email.com\n",
       "1      Bob   22        NaN               None\n",
       "2  Charlie   28       75.0  charlie@email.com"
      ]
     },
     "execution_count": 18,
     "metadata": {},
     "output_type": "execute_result"
    }
   ],
   "source": [
    "#rimuovi le righe con dati mancanti\n",
    "df1=df.dropna(inplace=False)\n",
    "df"
   ]
  },
  {
   "cell_type": "code",
   "execution_count": 19,
   "id": "867a3e24",
   "metadata": {},
   "outputs": [
    {
     "data": {
      "text/html": [
       "<div>\n",
       "<style scoped>\n",
       "    .dataframe tbody tr th:only-of-type {\n",
       "        vertical-align: middle;\n",
       "    }\n",
       "\n",
       "    .dataframe tbody tr th {\n",
       "        vertical-align: top;\n",
       "    }\n",
       "\n",
       "    .dataframe thead th {\n",
       "        text-align: right;\n",
       "    }\n",
       "</style>\n",
       "<table border=\"1\" class=\"dataframe\">\n",
       "  <thead>\n",
       "    <tr style=\"text-align: right;\">\n",
       "      <th></th>\n",
       "      <th>nome</th>\n",
       "      <th>età</th>\n",
       "      <th>punteggio</th>\n",
       "      <th>email</th>\n",
       "    </tr>\n",
       "  </thead>\n",
       "  <tbody>\n",
       "    <tr>\n",
       "      <th>0</th>\n",
       "      <td>Alice</td>\n",
       "      <td>25</td>\n",
       "      <td>90.0</td>\n",
       "      <td>alice@email.com</td>\n",
       "    </tr>\n",
       "    <tr>\n",
       "      <th>2</th>\n",
       "      <td>Charlie</td>\n",
       "      <td>28</td>\n",
       "      <td>75.0</td>\n",
       "      <td>charlie@email.com</td>\n",
       "    </tr>\n",
       "  </tbody>\n",
       "</table>\n",
       "</div>"
      ],
      "text/plain": [
       "      nome  età  punteggio              email\n",
       "0    Alice   25       90.0    alice@email.com\n",
       "2  Charlie   28       75.0  charlie@email.com"
      ]
     },
     "execution_count": 19,
     "metadata": {},
     "output_type": "execute_result"
    }
   ],
   "source": [
    "#rimuovi le righe con dati mancanti\n",
    "df1=df.dropna(inplace=False)\n",
    "df1"
   ]
  },
  {
   "cell_type": "code",
   "execution_count": 31,
   "id": "093a8a21",
   "metadata": {},
   "outputs": [
    {
     "data": {
      "text/html": [
       "<div>\n",
       "<style scoped>\n",
       "    .dataframe tbody tr th:only-of-type {\n",
       "        vertical-align: middle;\n",
       "    }\n",
       "\n",
       "    .dataframe tbody tr th {\n",
       "        vertical-align: top;\n",
       "    }\n",
       "\n",
       "    .dataframe thead th {\n",
       "        text-align: right;\n",
       "    }\n",
       "</style>\n",
       "<table border=\"1\" class=\"dataframe\">\n",
       "  <thead>\n",
       "    <tr style=\"text-align: right;\">\n",
       "      <th></th>\n",
       "      <th>Variable1</th>\n",
       "      <th>Variable2</th>\n",
       "      <th>Missing_Column</th>\n",
       "    </tr>\n",
       "  </thead>\n",
       "  <tbody>\n",
       "    <tr>\n",
       "      <th>0</th>\n",
       "      <td>1</td>\n",
       "      <td>1.0</td>\n",
       "      <td>A</td>\n",
       "    </tr>\n",
       "    <tr>\n",
       "      <th>1</th>\n",
       "      <td>2</td>\n",
       "      <td>2.0</td>\n",
       "      <td>B</td>\n",
       "    </tr>\n",
       "    <tr>\n",
       "      <th>2</th>\n",
       "      <td>3</td>\n",
       "      <td>NaN</td>\n",
       "      <td>A</td>\n",
       "    </tr>\n",
       "    <tr>\n",
       "      <th>3</th>\n",
       "      <td>4</td>\n",
       "      <td>4.0</td>\n",
       "      <td>C</td>\n",
       "    </tr>\n",
       "    <tr>\n",
       "      <th>4</th>\n",
       "      <td>5</td>\n",
       "      <td>NaN</td>\n",
       "      <td>NaN</td>\n",
       "    </tr>\n",
       "  </tbody>\n",
       "</table>\n",
       "</div>"
      ],
      "text/plain": [
       "   Variable1  Variable2 Missing_Column\n",
       "0          1        1.0              A\n",
       "1          2        2.0              B\n",
       "2          3        NaN              A\n",
       "3          4        4.0              C\n",
       "4          5        NaN            NaN"
      ]
     },
     "execution_count": 31,
     "metadata": {},
     "output_type": "execute_result"
    }
   ],
   "source": [
    "import pandas as pd\n",
    "import seaborn as sns\n",
    "import numpy as np\n",
    "import matplotlib.pyplot as plt\n",
    "\n",
    "# Genera dati di esempio\n",
    "data = {\n",
    "    'Variable1': [1, 2, 3, 4, 5],\n",
    "    'Variable2': [1, 2, np.nan, 4, np.nan],\n",
    "    'Missing_Column': ['A', 'B', 'A', 'C', np.nan]\n",
    "}\n",
    "# Crea un DataFrame\n",
    "df = pd.DataFrame(data)\n",
    "df1=pd.DataFrame()\n",
    "df"
   ]
  },
  {
   "cell_type": "markdown",
   "id": "9aa3d3e3",
   "metadata": {},
   "source": [
    "# Trattamento dei missing values"
   ]
  },
  {
   "cell_type": "code",
   "execution_count": 7,
   "id": "e983caf0",
   "metadata": {},
   "outputs": [],
   "source": [
    "#trattamento dei missing values delle variabili numeriche\n",
    "numeric_cols = df.select_dtypes(include=[\"number\"])\n",
    "df1[numeric_cols.columns] = df[numeric_cols.columns].fillna(df[numeric_cols.columns].mean())"
   ]
  },
  {
   "cell_type": "code",
   "execution_count": 1,
   "id": "09e8ebb1",
   "metadata": {},
   "outputs": [
    {
     "name": "stdout",
     "output_type": "stream",
     "text": [
      ".\n"
     ]
    }
   ],
   "source": [
    "categorical_cols = df.select_dtypes(exclude=[\"number\"])\n",
    "df1[categorical_cols.columns]= df[categorical_cols.columns]fillna(df[categorical_cols.columns].mode().iloc[0])\n",
    "print(f\"il primo conn i valori mancanti \\n{df}\\ne il secondo con i missing values sostituiti \\n{df1}\")"
   ]
  },
  {
   "cell_type": "code",
   "execution_count": 5,
   "id": "a41b0323",
   "metadata": {},
   "outputs": [
    {
     "data": {
      "text/html": [
       "<div>\n",
       "<style scoped>\n",
       "    .dataframe tbody tr th:only-of-type {\n",
       "        vertical-align: middle;\n",
       "    }\n",
       "\n",
       "    .dataframe tbody tr th {\n",
       "        vertical-align: top;\n",
       "    }\n",
       "\n",
       "    .dataframe thead th {\n",
       "        text-align: right;\n",
       "    }\n",
       "</style>\n",
       "<table border=\"1\" class=\"dataframe\">\n",
       "  <thead>\n",
       "    <tr style=\"text-align: right;\">\n",
       "      <th></th>\n",
       "      <th>Feature1</th>\n",
       "      <th>Feature2</th>\n",
       "      <th>Feature3</th>\n",
       "    </tr>\n",
       "  </thead>\n",
       "  <tbody>\n",
       "    <tr>\n",
       "      <th>0</th>\n",
       "      <td>1.0</td>\n",
       "      <td>NaN</td>\n",
       "      <td>1.0</td>\n",
       "    </tr>\n",
       "    <tr>\n",
       "      <th>1</th>\n",
       "      <td>2.0</td>\n",
       "      <td>2.0</td>\n",
       "      <td>NaN</td>\n",
       "    </tr>\n",
       "    <tr>\n",
       "      <th>2</th>\n",
       "      <td>NaN</td>\n",
       "      <td>3.0</td>\n",
       "      <td>3.0</td>\n",
       "    </tr>\n",
       "    <tr>\n",
       "      <th>3</th>\n",
       "      <td>4.0</td>\n",
       "      <td>4.0</td>\n",
       "      <td>4.0</td>\n",
       "    </tr>\n",
       "    <tr>\n",
       "      <th>4</th>\n",
       "      <td>5.0</td>\n",
       "      <td>NaN</td>\n",
       "      <td>5.0</td>\n",
       "    </tr>\n",
       "  </tbody>\n",
       "</table>\n",
       "</div>"
      ],
      "text/plain": [
       "   Feature1  Feature2  Feature3\n",
       "0       1.0       NaN       1.0\n",
       "1       2.0       2.0       NaN\n",
       "2       NaN       3.0       3.0\n",
       "3       4.0       4.0       4.0\n",
       "4       5.0       NaN       5.0"
      ]
     },
     "execution_count": 5,
     "metadata": {},
     "output_type": "execute_result"
    }
   ],
   "source": [
    "import pandas as pd\n",
    "import matplotlib.pyplot as plt\n",
    "import numpy as np\n",
    "\n",
    "# Genera dati di esempio\n",
    "data = {\n",
    "    'Feature1': [1, 2, np.nan, 4, 5],\n",
    "    'Feature2': [np.nan, 2, 3, 4, np.nan],\n",
    "    'Feature3': [1, np.nan, 3, 4, 5]\n",
    "}\n",
    "# Crea un DataFrame\n",
    "df = pd.DataFrame(data)\n",
    "df"
   ]
  },
  {
   "cell_type": "code",
   "execution_count": 40,
   "id": "df6e4bad",
   "metadata": {},
   "outputs": [
    {
     "data": {
      "text/plain": [
       "5"
      ]
     },
     "execution_count": 40,
     "metadata": {},
     "output_type": "execute_result"
    }
   ],
   "source": [
    "df.isnull().sum()\n",
    "len(df)"
   ]
  },
  {
   "cell_type": "code",
   "execution_count": 39,
   "id": "e466e426",
   "metadata": {},
   "outputs": [
    {
     "data": {
      "text/plain": [
       "Feature1    20.0\n",
       "Feature2    40.0\n",
       "Feature3    20.0\n",
       "dtype: float64"
      ]
     },
     "execution_count": 39,
     "metadata": {},
     "output_type": "execute_result"
    }
   ],
   "source": [
    "missing_percent = (df.isnull().sum() / len(df)) * 100\n",
    "missing_percent"
   ]
  },
  {
   "cell_type": "code",
   "execution_count": 8,
   "id": "d1b56a48",
   "metadata": {},
   "outputs": [
    {
     "name": "stdout",
     "output_type": "stream",
     "text": [
      "il primo con i valori mancanti \n",
      "   Variable1  Variable2 Missing_Column\n",
      "0          1        1.0              A\n",
      "1          2        2.0              B\n",
      "2          3        NaN              A\n",
      "3          4        4.0              C\n",
      "4          5        NaN            NaN \n",
      "e il secondo con i missing values sostituiti \n",
      "   Variable1  Variable2 Missing_Column\n",
      "0          1   1.000000              A\n",
      "1          2   2.000000              B\n",
      "2          3   2.333333              A\n",
      "3          4   4.000000              C\n",
      "4          5   2.333333              A\n"
     ]
    }
   ],
   "source": [
    "#creo una funzione che si occupa solo dei missing values \n",
    "import pandas as pd\n",
    "import seaborn as sns\n",
    "import numpy as np\n",
    "import matplotlib.pyplot as plt\n",
    "\n",
    "# Genera dati di esempio\n",
    "data = {\n",
    "    'Variable1': [1, 2, 3, 4, 5],\n",
    "    'Variable2': [1, 2, np.nan, 4, np.nan],\n",
    "    'Missing_Column': ['A', 'B', 'A', 'C', np.nan]\n",
    "}\n",
    "\n",
    "# Crea un DataFrame\n",
    "df = pd.DataFrame(data)\n",
    "df1=pd.DataFrame()\n",
    "\n",
    "\n",
    "def missingvalues_sub(df):\n",
    "    # Trattamento dei missing values nelle variabili numeriche e categoriche\n",
    "    numeric_cols = df.select_dtypes(include=['number'])\n",
    "    categorical_cols = df.select_dtypes(exclude=['number'])\n",
    "    df1[numeric_cols.columns] = df[numeric_cols.columns].fillna(df[numeric_cols.columns].mean())    \n",
    "    df1[categorical_cols.columns] = df[categorical_cols.columns].fillna(df[categorical_cols.columns].mode().iloc[0])\n",
    "    return df1\n",
    "\n",
    "\n",
    "def main ():\n",
    "    df1=missingvalues_sub(df)\n",
    "    print(f\"il primo con i valori mancanti \\n{df} \\ne il secondo con i missing values sostituiti \\n{df1}\")\n",
    "\n",
    "\n",
    "if __name__ == \"__main__\":\n",
    "    main()"
   ]
  },
  {
   "cell_type": "code",
   "execution_count": 9,
   "id": "886cc2f0",
   "metadata": {},
   "outputs": [
    {
     "data": {
      "text/html": [
       "<div>\n",
       "<style scoped>\n",
       "    .dataframe tbody tr th:only-of-type {\n",
       "        vertical-align: middle;\n",
       "    }\n",
       "\n",
       "    .dataframe tbody tr th {\n",
       "        vertical-align: top;\n",
       "    }\n",
       "\n",
       "    .dataframe thead th {\n",
       "        text-align: right;\n",
       "    }\n",
       "</style>\n",
       "<table border=\"1\" class=\"dataframe\">\n",
       "  <thead>\n",
       "    <tr style=\"text-align: right;\">\n",
       "      <th></th>\n",
       "      <th>Variable1</th>\n",
       "      <th>Variable2</th>\n",
       "      <th>Missing_Column</th>\n",
       "    </tr>\n",
       "  </thead>\n",
       "  <tbody>\n",
       "    <tr>\n",
       "      <th>0</th>\n",
       "      <td>False</td>\n",
       "      <td>False</td>\n",
       "      <td>False</td>\n",
       "    </tr>\n",
       "    <tr>\n",
       "      <th>1</th>\n",
       "      <td>False</td>\n",
       "      <td>False</td>\n",
       "      <td>False</td>\n",
       "    </tr>\n",
       "    <tr>\n",
       "      <th>2</th>\n",
       "      <td>False</td>\n",
       "      <td>True</td>\n",
       "      <td>False</td>\n",
       "    </tr>\n",
       "    <tr>\n",
       "      <th>3</th>\n",
       "      <td>False</td>\n",
       "      <td>False</td>\n",
       "      <td>False</td>\n",
       "    </tr>\n",
       "    <tr>\n",
       "      <th>4</th>\n",
       "      <td>False</td>\n",
       "      <td>True</td>\n",
       "      <td>True</td>\n",
       "    </tr>\n",
       "  </tbody>\n",
       "</table>\n",
       "</div>"
      ],
      "text/plain": [
       "   Variable1  Variable2  Missing_Column\n",
       "0      False      False           False\n",
       "1      False      False           False\n",
       "2      False       True           False\n",
       "3      False      False           False\n",
       "4      False       True            True"
      ]
     },
     "execution_count": 9,
     "metadata": {},
     "output_type": "execute_result"
    }
   ],
   "source": [
    "df.isnull()"
   ]
  },
  {
   "cell_type": "code",
   "execution_count": 10,
   "id": "02dcd251",
   "metadata": {},
   "outputs": [
    {
     "data": {
      "text/html": [
       "<div>\n",
       "<style scoped>\n",
       "    .dataframe tbody tr th:only-of-type {\n",
       "        vertical-align: middle;\n",
       "    }\n",
       "\n",
       "    .dataframe tbody tr th {\n",
       "        vertical-align: top;\n",
       "    }\n",
       "\n",
       "    .dataframe thead th {\n",
       "        text-align: right;\n",
       "    }\n",
       "</style>\n",
       "<table border=\"1\" class=\"dataframe\">\n",
       "  <thead>\n",
       "    <tr style=\"text-align: right;\">\n",
       "      <th></th>\n",
       "      <th>Feature1</th>\n",
       "      <th>Feature2</th>\n",
       "      <th>Feature3</th>\n",
       "    </tr>\n",
       "  </thead>\n",
       "  <tbody>\n",
       "    <tr>\n",
       "      <th>0</th>\n",
       "      <td>False</td>\n",
       "      <td>True</td>\n",
       "      <td>False</td>\n",
       "    </tr>\n",
       "    <tr>\n",
       "      <th>1</th>\n",
       "      <td>False</td>\n",
       "      <td>False</td>\n",
       "      <td>True</td>\n",
       "    </tr>\n",
       "    <tr>\n",
       "      <th>2</th>\n",
       "      <td>True</td>\n",
       "      <td>False</td>\n",
       "      <td>False</td>\n",
       "    </tr>\n",
       "    <tr>\n",
       "      <th>3</th>\n",
       "      <td>False</td>\n",
       "      <td>False</td>\n",
       "      <td>False</td>\n",
       "    </tr>\n",
       "    <tr>\n",
       "      <th>4</th>\n",
       "      <td>False</td>\n",
       "      <td>True</td>\n",
       "      <td>False</td>\n",
       "    </tr>\n",
       "  </tbody>\n",
       "</table>\n",
       "</div>"
      ],
      "text/plain": [
       "   Feature1  Feature2  Feature3\n",
       "0     False      True     False\n",
       "1     False     False      True\n",
       "2      True     False     False\n",
       "3     False     False     False\n",
       "4     False      True     False"
      ]
     },
     "execution_count": 10,
     "metadata": {},
     "output_type": "execute_result"
    }
   ],
   "source": [
    "pi\n",
    "\n",
    "# Genera dati di esempio\n",
    "data = {\n",
    "    'Feature1': [1, 2, np.nan, 4, 5],\n",
    "    'Feature2': [np.nan, 2, 3, 4, np.nan],\n",
    "    'Feature3': [1, np.nan, 3, 4, 5]\n",
    "}\n",
    "\n",
    "# Crea un DataFrame\n",
    "df = pd.DataFrame(data)\n",
    "\n",
    "#Calcola la matrice di missing values\n",
    "missing_matrix = df.isnull()\n",
    "missing_matrix\n",
    "\n"
   ]
  },
  {
   "cell_type": "markdown",
   "id": "ef9836aa",
   "metadata": {},
   "source": [
    "# Heatmap"
   ]
  },
  {
   "cell_type": "code",
   "execution_count": 11,
   "id": "e93b7624",
   "metadata": {
    "scrolled": true
   },
   "outputs": [
    {
     "data": {
      "image/png": "[encoded data removed]",
      "text/plain": [
       "<Figure size 800x600 with 1 Axes>"
      ]
     },
     "metadata": {},
     "output_type": "display_data"
    }
   ],
   "source": [
    "#Crea un heatmap colorata\n",
    "plt.figure(figsize=(8, 6))\n",
    "sns.heatmap(missing_matrix, cmap=\"viridis\", cbar=False, alpha=0.8)\n",
    "plt.title(\"Matrice di missing values\")\n",
    "plt.show()"
   ]
  },
  {
   "cell_type": "code",
   "execution_count": 12,
   "id": "2f038d27",
   "metadata": {},
   "outputs": [
    {
     "name": "stdout",
     "output_type": "stream",
     "text": [
      "Requirement already satisfied: plotly in c:\\users\\utente\\anaconda3\\lib\\site-packages (5.9.0)\n",
      "Requirement already satisfied: tenacity>=6.2.0 in c:\\users\\utente\\anaconda3\\lib\\site-packages (from plotly) (8.2.2)\n",
      "Note: you may need to restart the kernel to use updated packages.\n"
     ]
    }
   ],
   "source": [
    "pip install plotly"
   ]
  },
  {
   "cell_type": "code",
   "execution_count": 28,
   "id": "942fe468",
   "metadata": {},
   "outputs": [
    {
     "name": "stdout",
     "output_type": "stream",
     "text": [
      "   Età   Genere  Punteggio       Reddito\n",
      "0   56  Maschio  85.120691  52915.764524\n",
      "1   69  Maschio  49.514653  44702.505608\n",
      "2   46  Maschio  48.058658  55077.257652\n",
      "3   32  Femmina  59.240778  45568.978848\n",
      "4   60  Maschio  82.468097  52526.914644\n"
     ]
    },
    {
     "data": {
      "text/html": [
       "<div>\n",
       "<style scoped>\n",
       "    .dataframe tbody tr th:only-of-type {\n",
       "        vertical-align: middle;\n",
       "    }\n",
       "\n",
       "    .dataframe tbody tr th {\n",
       "        vertical-align: top;\n",
       "    }\n",
       "\n",
       "    .dataframe thead th {\n",
       "        text-align: right;\n",
       "    }\n",
       "</style>\n",
       "<table border=\"1\" class=\"dataframe\">\n",
       "  <thead>\n",
       "    <tr style=\"text-align: right;\">\n",
       "      <th></th>\n",
       "      <th>Età</th>\n",
       "      <th>Genere</th>\n",
       "      <th>Punteggio</th>\n",
       "      <th>Reddito</th>\n",
       "    </tr>\n",
       "  </thead>\n",
       "  <tbody>\n",
       "    <tr>\n",
       "      <th>0</th>\n",
       "      <td>False</td>\n",
       "      <td>False</td>\n",
       "      <td>False</td>\n",
       "      <td>False</td>\n",
       "    </tr>\n",
       "    <tr>\n",
       "      <th>1</th>\n",
       "      <td>False</td>\n",
       "      <td>False</td>\n",
       "      <td>False</td>\n",
       "      <td>False</td>\n",
       "    </tr>\n",
       "    <tr>\n",
       "      <th>2</th>\n",
       "      <td>False</td>\n",
       "      <td>False</td>\n",
       "      <td>False</td>\n",
       "      <td>False</td>\n",
       "    </tr>\n",
       "    <tr>\n",
       "      <th>3</th>\n",
       "      <td>False</td>\n",
       "      <td>False</td>\n",
       "      <td>False</td>\n",
       "      <td>False</td>\n",
       "    </tr>\n",
       "    <tr>\n",
       "      <th>4</th>\n",
       "      <td>False</td>\n",
       "      <td>False</td>\n",
       "      <td>False</td>\n",
       "      <td>False</td>\n",
       "    </tr>\n",
       "    <tr>\n",
       "      <th>...</th>\n",
       "      <td>...</td>\n",
       "      <td>...</td>\n",
       "      <td>...</td>\n",
       "      <td>...</td>\n",
       "    </tr>\n",
       "    <tr>\n",
       "      <th>995</th>\n",
       "      <td>False</td>\n",
       "      <td>False</td>\n",
       "      <td>False</td>\n",
       "      <td>False</td>\n",
       "    </tr>\n",
       "    <tr>\n",
       "      <th>996</th>\n",
       "      <td>False</td>\n",
       "      <td>False</td>\n",
       "      <td>False</td>\n",
       "      <td>False</td>\n",
       "    </tr>\n",
       "    <tr>\n",
       "      <th>997</th>\n",
       "      <td>False</td>\n",
       "      <td>False</td>\n",
       "      <td>False</td>\n",
       "      <td>False</td>\n",
       "    </tr>\n",
       "    <tr>\n",
       "      <th>998</th>\n",
       "      <td>False</td>\n",
       "      <td>False</td>\n",
       "      <td>False</td>\n",
       "      <td>False</td>\n",
       "    </tr>\n",
       "    <tr>\n",
       "      <th>999</th>\n",
       "      <td>False</td>\n",
       "      <td>False</td>\n",
       "      <td>False</td>\n",
       "      <td>False</td>\n",
       "    </tr>\n",
       "  </tbody>\n",
       "</table>\n",
       "<p>1000 rows × 4 columns</p>\n",
       "</div>"
      ],
      "text/plain": [
       "       Età  Genere  Punteggio  Reddito\n",
       "0    False   False      False    False\n",
       "1    False   False      False    False\n",
       "2    False   False      False    False\n",
       "3    False   False      False    False\n",
       "4    False   False      False    False\n",
       "..     ...     ...        ...      ...\n",
       "995  False   False      False    False\n",
       "996  False   False      False    False\n",
       "997  False   False      False    False\n",
       "998  False   False      False    False\n",
       "999  False   False      False    False\n",
       "\n",
       "[1000 rows x 4 columns]"
      ]
     },
     "execution_count": 28,
     "metadata": {},
     "output_type": "execute_result"
    }
   ],
   "source": [
    "import pandas as pd\n",
    "import numpy as np\n",
    "import matplotlib.pyplot as plt\n",
    "import seaborn as sns\n",
    "import plotly.express as px\n",
    "\n",
    "# Genera dati casuali per l'esplorazione\n",
    "np.random.seed(42)\n",
    "data = {\n",
    "    'Età': np.random.randint(18, 70, size=1000),\n",
    "    'Genere': np.random.choice(['Maschio', 'Femmina'], size=1000),\n",
    "    'Punteggio': np.random.uniform(0, 100, size=1000),\n",
    "    'Reddito': np.random.normal(50000, 15000, size=1000)\n",
    "}\n",
    "df = pd.DataFrame(data)\n",
    "\n",
    "#Visualizza le prime righe del dataset\n",
    "print(df.head())\n",
    "missing_matrix = df.isnull()\n",
    "missing_matrix"
   ]
  },
  {
   "cell_type": "code",
   "execution_count": 22,
   "id": "15e59144",
   "metadata": {},
   "outputs": [
    {
     "name": "stdout",
     "output_type": "stream",
     "text": [
      "<class 'pandas.core.frame.DataFrame'>\n",
      "RangeIndex: 1000 entries, 0 to 999\n",
      "Data columns (total 4 columns):\n",
      " #   Column     Non-Null Count  Dtype  \n",
      "---  ------     --------------  -----  \n",
      " 0   Età        1000 non-null   int32  \n",
      " 1   Genere     1000 non-null   object \n",
      " 2   Punteggio  1000 non-null   float64\n",
      " 3   Reddito    1000 non-null   float64\n",
      "dtypes: float64(2), int32(1), object(1)\n",
      "memory usage: 27.5+ KB\n",
      "None\n"
     ]
    }
   ],
   "source": [
    "#informazioni sul dataset\n",
    "print(df.info())"
   ]
  },
  {
   "cell_type": "markdown",
   "id": "0ac45a74",
   "metadata": {},
   "source": [
    "missing_data= df.isnull().sum()\n",
    "print(\"valori mancanti per ciasciuna colonna:\")\n",
    "print(missing_data)"
   ]
  },
  {
   "cell_type": "code",
   "execution_count": 31,
   "id": "f394b1da",
   "metadata": {},
   "outputs": [
    {
     "data": {
      "image/png": "[encoded data removed]",
      "text/plain": [
       "<Figure size 800x600 with 1 Axes>"
      ]
     },
     "metadata": {},
     "output_type": "display_data"
    }
   ],
   "source": [
    "#Crea un heatmap colorata\n",
    "plt.figure(figsize=(8, 6))\n",
    "sns.heatmap(missing_matrix, cmap=\"viridis\", cbar=False, alpha=0.8)\n",
    "plt.title(\"Matrice di missing values\")\n",
    "plt.show()"
   ]
  },
  {
   "cell_type": "code",
   "execution_count": 34,
   "id": "36975d0f",
   "metadata": {},
   "outputs": [
    {
     "name": "stdout",
     "output_type": "stream",
     "text": [
      "    CatCol1 CatCol2   NumCol1    NumCol2   NumCol3\n",
      "0         A       X -1.442281  50.728571  0.154194\n",
      "1         A       Y  1.212341   4.000000  0.067115\n",
      "2         C       Y  1.574474  18.000000  0.476050\n",
      "3         B       X  0.402019  23.000000  0.526320\n",
      "4         B       Y  0.897322  65.000000  0.063328\n",
      "..      ...     ...       ...        ...       ...\n",
      "495       C       X -2.404308  10.000000  0.621247\n",
      "496       B       X  0.645468  53.956522  0.472152\n",
      "497       B       Y -0.544530   9.000000  0.654346\n",
      "498       C       X  0.427885  15.000000  0.521295\n",
      "499       C       X  0.028052   8.000000  0.175591\n",
      "\n",
      "[499 rows x 5 columns]\n"
     ]
    }
   ],
   "source": [
    "import pandas as pd\n",
    "import numpy as np\n",
    "\n",
    "# Impostare il seed per rendere i risultati riproducibili\n",
    "np.random.seed(41)\n",
    "\n",
    "# Creare un dataframe vuoto\n",
    "df = pd.DataFrame()\n",
    "\n",
    "# Generare dati casuali\n",
    "n_rows = 500\n",
    "df['CatCol1'] = np.random.choice(['A', 'B', 'C'], size=n_rows)\n",
    "df['CatCol2'] = np.random.choice(['X', 'Y'], size=n_rows)\n",
    "df['NumCol1'] = np.random.randn(n_rows)\n",
    "df['NumCol2'] = np.random.randint(1, 100, size=n_rows)\n",
    "df['NumCol3'] = np.random.uniform(0, 1, size=n_rows)\n",
    "\n",
    "# Calcolare il numero totale di missing values desiderati\n",
    "total_missing_values = int(0.05 * n_rows * len(df.columns))\n",
    "\n",
    "# Introdurre missing values casuali\n",
    "for column in df.columns:\n",
    "    num_missing_values = np.random.randint(0, total_missing_values + 1)\n",
    "    missing_indices = np.random.choice(n_rows, size=num_missing_values, replace=False)\n",
    "    df.loc[missing_indices, column] = np.nan\n",
    "\n",
    "# Elimina le righe in cui entrambe le features categoriche hanno valori NaN\n",
    "df = df.dropna(subset=[\"CatCol1\", 'CatCol2'], how='all')\n",
    "\n",
    "\n",
    "numeric_cols = df.select_dtypes(include=['number'])\n",
    "categorical_cols = df.select_dtypes(exclude=['number'])\n",
    "\n",
    "# Sostituisci i missing values nelle colonne categoriche con la moda utilizzando .loc\n",
    "df.loc[:, categorical_cols.columns] = df[categorical_cols.columns].fillna(df[categorical_cols.columns].mode().iloc[0])\n",
    "\n",
    "# Calcola la media condizionata solo per le colonne numeriche con dati mancanti\n",
    "conditional_means = df[numeric_cols.columns].fillna(df.groupby('CatCol1')[numeric_cols.columns].transform('mean'))\n",
    "\n",
    "# Aggiorna le colonne numeriche con la media condizionata utilizzando .loc\n",
    "df.loc[:, numeric_cols.columns] = conditional_means\n",
    "\n",
    "# Stampa il DataFrame risultante\n",
    "print(df)"
   ]
  },
  {
   "cell_type": "code",
   "execution_count": 8,
   "id": "c7a85ab8",
   "metadata": {},
   "outputs": [
    {
     "data": {
      "text/html": [
       "<div>\n",
       "<style scoped>\n",
       "    .dataframe tbody tr th:only-of-type {\n",
       "        vertical-align: middle;\n",
       "    }\n",
       "\n",
       "    .dataframe tbody tr th {\n",
       "        vertical-align: top;\n",
       "    }\n",
       "\n",
       "    .dataframe thead th {\n",
       "        text-align: right;\n",
       "    }\n",
       "</style>\n",
       "<table border=\"1\" class=\"dataframe\">\n",
       "  <thead>\n",
       "    <tr style=\"text-align: right;\">\n",
       "      <th></th>\n",
       "      <th>CatCol1</th>\n",
       "      <th>CatCol2</th>\n",
       "      <th>NumCol1</th>\n",
       "      <th>NumCol2</th>\n",
       "      <th>NumCol3</th>\n",
       "    </tr>\n",
       "  </thead>\n",
       "  <tbody>\n",
       "    <tr>\n",
       "      <th>0</th>\n",
       "      <td>A</td>\n",
       "      <td>Y</td>\n",
       "      <td>-0.391604</td>\n",
       "      <td>98.0</td>\n",
       "      <td>0.409815</td>\n",
       "    </tr>\n",
       "    <tr>\n",
       "      <th>1</th>\n",
       "      <td>A</td>\n",
       "      <td>X</td>\n",
       "      <td>0.000551</td>\n",
       "      <td>19.0</td>\n",
       "      <td>0.886592</td>\n",
       "    </tr>\n",
       "    <tr>\n",
       "      <th>2</th>\n",
       "      <td>C</td>\n",
       "      <td>Y</td>\n",
       "      <td>1.266001</td>\n",
       "      <td>52.0</td>\n",
       "      <td>0.848556</td>\n",
       "    </tr>\n",
       "    <tr>\n",
       "      <th>3</th>\n",
       "      <td>A</td>\n",
       "      <td>X</td>\n",
       "      <td>0.449617</td>\n",
       "      <td>70.0</td>\n",
       "      <td>0.546525</td>\n",
       "    </tr>\n",
       "    <tr>\n",
       "      <th>4</th>\n",
       "      <td>B</td>\n",
       "      <td>X</td>\n",
       "      <td>0.742505</td>\n",
       "      <td>72.0</td>\n",
       "      <td>0.467257</td>\n",
       "    </tr>\n",
       "    <tr>\n",
       "      <th>...</th>\n",
       "      <td>...</td>\n",
       "      <td>...</td>\n",
       "      <td>...</td>\n",
       "      <td>...</td>\n",
       "      <td>...</td>\n",
       "    </tr>\n",
       "    <tr>\n",
       "      <th>9999995</th>\n",
       "      <td>A</td>\n",
       "      <td>Y</td>\n",
       "      <td>0.464663</td>\n",
       "      <td>7.0</td>\n",
       "      <td>0.992815</td>\n",
       "    </tr>\n",
       "    <tr>\n",
       "      <th>9999996</th>\n",
       "      <td>A</td>\n",
       "      <td>X</td>\n",
       "      <td>0.149775</td>\n",
       "      <td>13.0</td>\n",
       "      <td>0.731368</td>\n",
       "    </tr>\n",
       "    <tr>\n",
       "      <th>9999997</th>\n",
       "      <td>C</td>\n",
       "      <td>Y</td>\n",
       "      <td>-0.608376</td>\n",
       "      <td>1.0</td>\n",
       "      <td>0.606349</td>\n",
       "    </tr>\n",
       "    <tr>\n",
       "      <th>9999998</th>\n",
       "      <td>C</td>\n",
       "      <td>Y</td>\n",
       "      <td>0.000101</td>\n",
       "      <td>69.0</td>\n",
       "      <td>0.115812</td>\n",
       "    </tr>\n",
       "    <tr>\n",
       "      <th>9999999</th>\n",
       "      <td>B</td>\n",
       "      <td>Y</td>\n",
       "      <td>1.666715</td>\n",
       "      <td>76.0</td>\n",
       "      <td>0.245699</td>\n",
       "    </tr>\n",
       "  </tbody>\n",
       "</table>\n",
       "<p>9635330 rows × 5 columns</p>\n",
       "</div>"
      ],
      "text/plain": [
       "        CatCol1 CatCol2   NumCol1  NumCol2   NumCol3\n",
       "0             A       Y -0.391604     98.0  0.409815\n",
       "1             A       X  0.000551     19.0  0.886592\n",
       "2             C       Y  1.266001     52.0  0.848556\n",
       "3             A       X  0.449617     70.0  0.546525\n",
       "4             B       X  0.742505     72.0  0.467257\n",
       "...         ...     ...       ...      ...       ...\n",
       "9999995       A       Y  0.464663      7.0  0.992815\n",
       "9999996       A       X  0.149775     13.0  0.731368\n",
       "9999997       C       Y -0.608376      1.0  0.606349\n",
       "9999998       C       Y  0.000101     69.0  0.115812\n",
       "9999999       B       Y  1.666715     76.0  0.245699\n",
       "\n",
       "[9635330 rows x 5 columns]"
      ]
     },
     "execution_count": 8,
     "metadata": {},
     "output_type": "execute_result"
    }
   ],
   "source": [
    "df = df.dropna(subset=[\"CatCol1\", 'CatCol2'], how='all')\n",
    "df"
   ]
  },
  {
   "cell_type": "code",
   "execution_count": 10,
   "id": "0e1bbdf7",
   "metadata": {},
   "outputs": [
    {
     "data": {
      "text/html": [
       "<div>\n",
       "<style scoped>\n",
       "    .dataframe tbody tr th:only-of-type {\n",
       "        vertical-align: middle;\n",
       "    }\n",
       "\n",
       "    .dataframe tbody tr th {\n",
       "        vertical-align: top;\n",
       "    }\n",
       "\n",
       "    .dataframe thead th {\n",
       "        text-align: right;\n",
       "    }\n",
       "</style>\n",
       "<table border=\"1\" class=\"dataframe\">\n",
       "  <thead>\n",
       "    <tr style=\"text-align: right;\">\n",
       "      <th></th>\n",
       "      <th>CatCol1</th>\n",
       "      <th>CatCol2</th>\n",
       "      <th>NumCol1</th>\n",
       "      <th>NumCol2</th>\n",
       "      <th>NumCol3</th>\n",
       "    </tr>\n",
       "  </thead>\n",
       "  <tbody>\n",
       "    <tr>\n",
       "      <th>0</th>\n",
       "      <td>A</td>\n",
       "      <td>Y</td>\n",
       "      <td>-0.391604</td>\n",
       "      <td>98.0</td>\n",
       "      <td>0.409815</td>\n",
       "    </tr>\n",
       "    <tr>\n",
       "      <th>1</th>\n",
       "      <td>A</td>\n",
       "      <td>X</td>\n",
       "      <td>0.000551</td>\n",
       "      <td>19.0</td>\n",
       "      <td>0.886592</td>\n",
       "    </tr>\n",
       "    <tr>\n",
       "      <th>2</th>\n",
       "      <td>C</td>\n",
       "      <td>Y</td>\n",
       "      <td>1.266001</td>\n",
       "      <td>52.0</td>\n",
       "      <td>0.848556</td>\n",
       "    </tr>\n",
       "    <tr>\n",
       "      <th>3</th>\n",
       "      <td>A</td>\n",
       "      <td>X</td>\n",
       "      <td>0.449617</td>\n",
       "      <td>70.0</td>\n",
       "      <td>0.546525</td>\n",
       "    </tr>\n",
       "    <tr>\n",
       "      <th>4</th>\n",
       "      <td>B</td>\n",
       "      <td>X</td>\n",
       "      <td>0.742505</td>\n",
       "      <td>72.0</td>\n",
       "      <td>0.467257</td>\n",
       "    </tr>\n",
       "    <tr>\n",
       "      <th>...</th>\n",
       "      <td>...</td>\n",
       "      <td>...</td>\n",
       "      <td>...</td>\n",
       "      <td>...</td>\n",
       "      <td>...</td>\n",
       "    </tr>\n",
       "    <tr>\n",
       "      <th>9999995</th>\n",
       "      <td>A</td>\n",
       "      <td>Y</td>\n",
       "      <td>0.464663</td>\n",
       "      <td>7.0</td>\n",
       "      <td>0.992815</td>\n",
       "    </tr>\n",
       "    <tr>\n",
       "      <th>9999996</th>\n",
       "      <td>A</td>\n",
       "      <td>X</td>\n",
       "      <td>0.149775</td>\n",
       "      <td>13.0</td>\n",
       "      <td>0.731368</td>\n",
       "    </tr>\n",
       "    <tr>\n",
       "      <th>9999997</th>\n",
       "      <td>C</td>\n",
       "      <td>Y</td>\n",
       "      <td>-0.608376</td>\n",
       "      <td>1.0</td>\n",
       "      <td>0.606349</td>\n",
       "    </tr>\n",
       "    <tr>\n",
       "      <th>9999998</th>\n",
       "      <td>C</td>\n",
       "      <td>Y</td>\n",
       "      <td>0.000101</td>\n",
       "      <td>69.0</td>\n",
       "      <td>0.115812</td>\n",
       "    </tr>\n",
       "    <tr>\n",
       "      <th>9999999</th>\n",
       "      <td>B</td>\n",
       "      <td>Y</td>\n",
       "      <td>1.666715</td>\n",
       "      <td>76.0</td>\n",
       "      <td>0.245699</td>\n",
       "    </tr>\n",
       "  </tbody>\n",
       "</table>\n",
       "<p>9635330 rows × 5 columns</p>\n",
       "</div>"
      ],
      "text/plain": [
       "        CatCol1 CatCol2   NumCol1  NumCol2   NumCol3\n",
       "0             A       Y -0.391604     98.0  0.409815\n",
       "1             A       X  0.000551     19.0  0.886592\n",
       "2             C       Y  1.266001     52.0  0.848556\n",
       "3             A       X  0.449617     70.0  0.546525\n",
       "4             B       X  0.742505     72.0  0.467257\n",
       "...         ...     ...       ...      ...       ...\n",
       "9999995       A       Y  0.464663      7.0  0.992815\n",
       "9999996       A       X  0.149775     13.0  0.731368\n",
       "9999997       C       Y -0.608376      1.0  0.606349\n",
       "9999998       C       Y  0.000101     69.0  0.115812\n",
       "9999999       B       Y  1.666715     76.0  0.245699\n",
       "\n",
       "[9635330 rows x 5 columns]"
      ]
     },
     "execution_count": 10,
     "metadata": {},
     "output_type": "execute_result"
    }
   ],
   "source": [
    "df = df.dropna(subset=[\"CatCol1\", 'CatCol2'], how='all')\n",
    "df"
   ]
  },
  {
   "cell_type": "code",
   "execution_count": 11,
   "id": "d7ae5b1f",
   "metadata": {},
   "outputs": [
    {
     "name": "stdout",
     "output_type": "stream",
     "text": [
      "        CatCol1 CatCol2   NumCol1  NumCol2   NumCol3\n",
      "0             A       Y -0.391604     98.0  0.409815\n",
      "1             A       X  0.000551     19.0  0.886592\n",
      "2             C       Y  1.266001     52.0  0.848556\n",
      "3             A       X  0.449617     70.0  0.546525\n",
      "4             B       X  0.742505     72.0  0.467257\n",
      "...         ...     ...       ...      ...       ...\n",
      "9999995       A       Y  0.464663      7.0  0.992815\n",
      "9999996       A       X  0.149775     13.0  0.731368\n",
      "9999997       C       Y -0.608376      1.0  0.606349\n",
      "9999998       C       Y  0.000101     69.0  0.115812\n",
      "9999999       B       Y  1.666715     76.0  0.245699\n",
      "\n",
      "[9635330 rows x 5 columns]\n"
     ]
    }
   ],
   "source": [
    "numeric_cols = df.select_dtypes(include=['number'])\n",
    "categorical_cols = df.select_dtypes(exclude=['number'])\n",
    "\n",
    "# Sostituisci i missing values nelle colonne categoriche con la moda utilizzando .loc\n",
    "df.loc[:, categorical_cols.columns] = df[categorical_cols.columns].fillna(df[categorical_cols.columns].mode().iloc[0])\n",
    "\n",
    "# Calcola la media condizionata solo per le colonne numeriche con dati mancanti\n",
    "conditional_means = df[numeric_cols.columns].fillna(df.groupby('CatCol1')[numeric_cols.columns].transform('mean'))\n",
    "\n",
    "# Aggiorna le colonne numeriche con la media condizionata utilizzando .loc\n",
    "df.loc[:, numeric_cols.columns] = conditional_means\n",
    "\n",
    "# Stampa il DataFrame risultante\n",
    "print(df)"
   ]
  },
  {
   "cell_type": "markdown",
   "id": "58ebf11b",
   "metadata": {},
   "source": [
    "# Codice con sklearn"
   ]
  },
  {
   "cell_type": "code",
   "execution_count": 35,
   "id": "cc89181d",
   "metadata": {},
   "outputs": [
    {
     "name": "stdout",
     "output_type": "stream",
     "text": [
      "Dimensioni del Training Set (altezze e pesi): (70,) (70,)\n",
      "Dimensioni del Test Set (altezze e pesi): (30,) (30,)\n"
     ]
    }
   ],
   "source": [
    "import numpy as np\n",
    "from sklearn.model_selection import train_test_split\n",
    "\n",
    "# Creare dati casuali per altezze (variabile indipendente) e pesi (variabile dipendente)\n",
    "np.random.seed(0)\n",
    "altezze = np.random.normal(160, 10, 100)\n",
    "pesi = 0.5 * altezze + np.random.normal(0, 5, 100)\n",
    "\n",
    "# Suddividere il dataset in training set (70%) e test set (30%)\n",
    "X_train, X_test, y_train, y_test = train_test_split(altezze, pesi, test_size=0.3, random_state=42)\n",
    "\n",
    "# Stampare le dimensioni dei training set e test set\n",
    "print(\"Dimensioni del Training Set (altezze e pesi):\", X_train.shape, y_train.shape)\n",
    "print(\"Dimensioni del Test Set (altezze e pesi):\", X_test.shape, y_test.shape)"
   ]
  },
  {
   "cell_type": "markdown",
   "id": "2396fb89",
   "metadata": {},
   "source": [
    "## Grafico a dispersione con sklearn con la realzione tra visite al sito e importo delle vendite"
   ]
  },
  {
   "cell_type": "code",
   "execution_count": 9,
   "id": "4c4ae93a",
   "metadata": {},
   "outputs": [
    {
     "data": {
      "image/png": "[encoded data removed]",
      "text/plain": [
       "<Figure size 1000x600 with 1 Axes>"
      ]
     },
     "metadata": {},
     "output_type": "display_data"
    },
    {
     "name": "stdout",
     "output_type": "stream",
     "text": [
      "Dimensioni del Training Set (visite al sito e importo delle vendite): (70,) (70,)\n",
      "Dimensioni del Test Set (visite al sito e importo delle vendite): (30,) (30,)\n"
     ]
    }
   ],
   "source": [
    "import numpy as np\n",
    "import matplotlib.pyplot as plt\n",
    "from sklearn.model_selection import train_test_split\n",
    "\n",
    "# Creazione di dati casuali per visite al sito web e importo delle vendite\n",
    "np.random.seed(0)\n",
    "visite_al_sito = np.random.randint(100, 1000, 100)\n",
    "importo_vendite = 50 + 0.2 * visite_al_sito + np.random.normal(0, 10, 100)\n",
    "\n",
    "# Suddivisione del dataset in training set (70%) e test set (30%)\n",
    "X_train, X_test, y_train, y_test = train_test_split(visite_al_sito, importo_vendite, test_size=0.3, random_state=42)\n",
    "\n",
    "# Creazione di un grafico a dispersione\n",
    "plt.figure(figsize=(10, 6))\n",
    "plt.scatter(X_train, y_train, label='Training Set', color='blue', alpha=0.7)\n",
    "plt.scatter(X_test, y_test, label='Test Set', color='orange', alpha=0.7)\n",
    "plt.xlabel('Numero di Visite al Sito')\n",
    "plt.ylabel('Importo delle Vendite')\n",
    "plt.title('Relazione tra Visite al Sito e Importo delle Vendite')\n",
    "plt.legend()\n",
    "plt.grid(True)\n",
    "plt.show()\n",
    "\n",
    "# Stampare le dimensioni dei training set e test set\n",
    "print(\"Dimensioni del Training Set (visite al sito e importo delle vendite):\", X_train.shape, y_train.shape)\n",
    "print(\"Dimensioni del Test Set (visite al sito e importo delle vendite):\", X_test.shape, y_test.shape)"
   ]
  },
  {
   "cell_type": "code",
   "execution_count": 6,
   "id": "dc2fb693",
   "metadata": {},
   "outputs": [
    {
     "data": {
      "image/png": "[encoded data removed]",
      "text/plain": [
       "<Figure size 1000x600 with 1 Axes>"
      ]
     },
     "metadata": {},
     "output_type": "display_data"
    },
    {
     "name": "stdout",
     "output_type": "stream",
     "text": [
      "Dimensioni del Training Set (mesi trascorsi e peso corporeo): (90,) (90,)\n",
      "Dimensioni del Test Set (mesi trascorsi e peso corporeo): (30,) (30,)\n"
     ]
    }
   ],
   "source": [
    "import numpy as np\n",
    "import matplotlib.pyplot as plt\n",
    "from sklearn.model_selection import train_test_split\n",
    "\n",
    "# Creazione di dati casuali per mesi trascorsi e peso corporeo\n",
    "np.random.seed(0)\n",
    "n=120\n",
    "mesi_trascorsi = np.arange(1, n+1)\n",
    "peso_corporeo = 70 - 0.2 * mesi_trascorsi + np.random.normal(0, 2, n)\n",
    "\n",
    "# Suddivisione del dataset in training set (75%) e test set (25%)\n",
    "X_train, X_test, y_train, y_test = train_test_split(mesi_trascorsi, peso_corporeo, test_size=0.25, random_state=42)\n",
    "\n",
    "# Creazione di un grafico a linee\n",
    "plt.figure(figsize=(10, 6))\n",
    "plt.plot(X_train, y_train, label='Training Set', marker='o', color='blue', linestyle='', markersize=8,alpha=0.7)\n",
    "plt.plot(X_test, y_test, label='Test Set', marker='s', color='orange', linestyle='', markersize=8,alpha=0.7)\n",
    "plt.xlabel('Mesi Trascorsi')\n",
    "plt.ylabel('Peso Corporeo (kg)')\n",
    "plt.title('Analisi dei Dati di Fitness')\n",
    "plt.legend()\n",
    "plt.grid(True)\n",
    "plt.show()\n",
    "\n",
    "# Stampare le dimensioni dei training set e test set\n",
    "print(\"Dimensioni del Training Set (mesi trascorsi e peso corporeo):\", X_train.shape, y_train.shape)\n",
    "print(\"Dimensioni del Test Set (mesi trascorsi e peso corporeo):\", X_test.shape, y_test.shape)"
   ]
  },
  {
   "cell_type": "code",
   "execution_count": 7,
   "id": "6354a538",
   "metadata": {},
   "outputs": [
    {
     "name": "stdout",
     "output_type": "stream",
     "text": [
      "Proporzione Classe A nel data Set completo: 0.54\n",
      "Proporzione Classe B nel data Setcompleto: 0.45999999999999996\n",
      "Proporzione Classe A nel Training Set: 0.5285714285714286\n",
      "Proporzione Classe B nel Training Set: 0.4714285714285714\n",
      "Proporzione Classe A nel Test Set: 0.5666666666666667\n",
      "Proporzione Classe B nel Test Set: 0.43333333333333335\n"
     ]
    }
   ],
   "source": [
    "from sklearn.model_selection import train_test_split\n",
    "import numpy as np\n",
    "\n",
    "np.random.seed(1)\n",
    "# Supponiamo di avere un dataset con feature X e target y\n",
    "X = np.random.rand(100, 2)  # Dati del dataset (100 campioni, 2 feature)\n",
    "y = np.random.choice(['A', 'B'], size=100)  # Etichette di classe casuali\n",
    "# Calcola le proporzioni delle classi nel dataset originale\n",
    "proporzione_classe_A = sum(y == 'A') / len(y)\n",
    "proporzione_classe_B = 1 - proporzione_classe_A\n",
    "# Eseguire uno split stratificato con una proporzione specificata\n",
    "X_train, X_test, y_train, y_test = train_test_split(X, y, test_size=0.3, random_state=42)\n",
    "# Calcola le proporzioni delle classi nel training set e nel test set\n",
    "proporzione_classe_A_train = sum(y_train == 'A') / len(y_train)\n",
    "proporzione_classe_B_train = 1 - proporzione_classe_A_train\n",
    "\n",
    "proporzione_classe_A_test = sum(y_test == 'A') / len(y_test)\n",
    "proporzione_classe_B_test = 1 - proporzione_classe_A_test\n",
    "\n",
    "# Stampa delle proporzioni\n",
    "print(\"Proporzione Classe A nel data Set completo:\", proporzione_classe_A)\n",
    "print(\"Proporzione Classe B nel data Setcompleto:\", proporzione_classe_B)\n",
    "print(\"Proporzione Classe A nel Training Set:\", proporzione_classe_A_train)\n",
    "print(\"Proporzione Classe B nel Training Set:\", proporzione_classe_B_train)\n",
    "print(\"Proporzione Classe A nel Test Set:\", proporzione_classe_A_test)\n",
    "print(\"Proporzione Classe B nel Test Set:\", proporzione_classe_B_test)"
   ]
  },
  {
   "cell_type": "code",
   "execution_count": 15,
   "id": "92c919f0",
   "metadata": {},
   "outputs": [
    {
     "data": {
      "image/png": "[encoded data removed]",
      "text/plain": [
       "<Figure size 640x480 with 1 Axes>"
      ]
     },
     "metadata": {},
     "output_type": "display_data"
    }
   ],
   "source": [
    "labels = [\"ClasseA\",\"ClasseB\"]\n",
    "\n",
    "colors = [\"gold\",\"lightcoral\"]\n",
    "\n",
    "plt.pie([proporzione_classe_A,proporzione_classe_B], labels=labels, colors=colors, autopct=\"%1.2f%%\")\n",
    "plt.title(\"proprzione delle classi nel set\")\n",
    "plt.show()"
   ]
  },
  {
   "cell_type": "code",
   "execution_count": 16,
   "id": "b14a725c",
   "metadata": {
    "scrolled": true
   },
   "outputs": [
    {
     "data": {
      "text/plain": [
       "<function matplotlib.pyplot.show(close=None, block=None)>"
      ]
     },
     "execution_count": 16,
     "metadata": {},
     "output_type": "execute_result"
    },
    {
     "data": {
      "image/png": "[encoded data removed]",
      "text/plain": [
       "<Figure size 640x480 with 1 Axes>"
      ]
     },
     "metadata": {},
     "output_type": "display_data"
    }
   ],
   "source": [
    "labels = [\"ClasseA\",\"ClasseB\"]\n",
    "\n",
    "colors = [\"gold\",\"lightcoral\"]\n",
    "\n",
    "plt.pie([proporzione_classe_A_test,proporzione_classe_B_test], labels=labels, colors=colors, autopct=\"%1.2f%%\")\n",
    "plt.title(\"proprzione delle classi nel test set\")\n",
    "plt.show"
   ]
  },
  {
   "cell_type": "code",
   "execution_count": 17,
   "id": "5d270e7e",
   "metadata": {},
   "outputs": [
    {
     "name": "stdout",
     "output_type": "stream",
     "text": [
      "media del campione casuale:  53.06\n",
      "deviazione standard del campione casuale:  28.08\n",
      "deviazione standard del dataset completo:  29.02\n"
     ]
    }
   ],
   "source": [
    "import random\n",
    "import numpy as np\n",
    "\n",
    "dataset=[]\n",
    "\n",
    "for i in range(1000):\n",
    "    dataset.append(random.randint(1,100))\n",
    "    \n",
    "\n",
    "campione_casuale = random.sample(dataset,300)\n",
    "\n",
    "media_campione = np.mean(campione_casuale)\n",
    "deviazione_standard_campione = np.std(campione_casuale)\n",
    "\n",
    "media_dataset = np.mean(dataset)\n",
    "deviazione_standard_dataset = np.std(dataset)\n",
    "\n",
    "print(f\"media del campione casuale: {media_campione: .2f}\")\n",
    "print(f\"deviazione standard del campione casuale: {deviazione_standard_campione: .2f}\")\n",
    "print(f\"deviazione standard del dataset completo: {deviazione_standard_dataset: .2f}\")\n"
   ]
  }
 ],
 "metadata": {
  "kernelspec": {
   "display_name": "Python 3 (ipykernel)",
   "language": "python",
   "name": "python3"
  },
  "language_info": {
   "codemirror_mode": {
    "name": "ipython",
    "version": 3
   },
   "file_extension": ".py",
   "mimetype": "text/x-python",
   "name": "python",
   "nbconvert_exporter": "python",
   "pygments_lexer": "ipython3",
   "version": "3.11.4"
  }
 },
 "nbformat": 4,
 "nbformat_minor": 5
}
